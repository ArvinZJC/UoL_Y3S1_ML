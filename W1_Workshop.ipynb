{
 "cells": [
  {
   "cell_type": "markdown",
   "metadata": {},
   "source": [
    "Machine Learning 2019 - 2020 <br>\n",
    "Week 1 - Workshop on Python preliminaries <br>\n",
    "Lecturer: Dr George Leontidis <br>\n",
    "Demonstrators: Wayne Andrew, Francesco Del Duchetto, George Onoufriou <br>\n",
    "\n",
    "# INTRODUCTION <br>\n",
    "\n",
    "As we discussed during the lecture this week is devoted on introducing the module and you having the chance to (re) visit some basic principles on python. It also provide you with an introduction to Anaconda and the use of notebook for writing code interactively.\n",
    "There exists a set of simple examples on numpy. Please try to solve as many as you can. \n",
    "Solutions will be provided separately.\n",
    "\n",
    "\n",
    "# EXERCISE\n",
    "\n",
    "Please try to fill the gaps in the code below"
   ]
  },
  {
   "cell_type": "code",
   "execution_count": 4,
   "metadata": {},
   "outputs": [
    {
     "name": "stdout",
     "output_type": "stream",
     "text": [
      "1.16.5\n"
     ]
    }
   ],
   "source": [
    "#Import numpy as np and print the version number\n",
    "\n",
    "#####\n",
    "import numpy as np\n",
    "\n",
    "print(np.__version__)\n",
    "# print(np.version.version) # this works as well\n",
    "#####"
   ]
  },
  {
   "cell_type": "code",
   "execution_count": 5,
   "metadata": {},
   "outputs": [
    {
     "data": {
      "text/plain": [
       "array([0, 1, 2, 3, 4, 5, 6, 7, 8])"
      ]
     },
     "execution_count": 5,
     "metadata": {},
     "output_type": "execute_result"
    }
   ],
   "source": [
    "#Create a 1D array of numbers from 0 to 8\n",
    "\n",
    "#####\n",
    "np.arange(9)\n",
    "#####"
   ]
  },
  {
   "cell_type": "code",
   "execution_count": 6,
   "metadata": {},
   "outputs": [
    {
     "data": {
      "text/plain": [
       "array([[ True,  True,  True,  True,  True],\n",
       "       [ True,  True,  True,  True,  True],\n",
       "       [ True,  True,  True,  True,  True],\n",
       "       [ True,  True,  True,  True,  True],\n",
       "       [ True,  True,  True,  True,  True]])"
      ]
     },
     "execution_count": 6,
     "metadata": {},
     "output_type": "execute_result"
    }
   ],
   "source": [
    " #Create a 5×5 numpy array of all True’s\n",
    "    \n",
    "#####\n",
    "np.full((5, 5), True, dtype=bool)\n",
    "#####"
   ]
  },
  {
   "cell_type": "code",
   "execution_count": 7,
   "metadata": {},
   "outputs": [
    {
     "data": {
      "text/plain": [
       "array([0, 2, 4, 6, 8])"
      ]
     },
     "execution_count": 7,
     "metadata": {},
     "output_type": "execute_result"
    }
   ],
   "source": [
    "#Extract all even numbers from arr\n",
    "\n",
    "arr = np.array([0, 1, 2, 3, 4, 5, 6, 7, 8, 9])\n",
    "#####\n",
    "arr[arr % 2 == 0]\n",
    "#####"
   ]
  },
  {
   "cell_type": "code",
   "execution_count": 8,
   "metadata": {},
   "outputs": [
    {
     "data": {
      "text/plain": [
       "array([ 1, -3,  3, -3,  5, -3,  7, -3,  9])"
      ]
     },
     "execution_count": 8,
     "metadata": {},
     "output_type": "execute_result"
    }
   ],
   "source": [
    "#Replace all even numbers in arr with -3\n",
    "\n",
    "arr = np.array([1, 2, 3, 4, 5, 6, 7, 8, 9])\n",
    "#####\n",
    "arr[arr % 2 == 0] = -3\n",
    "arr\n",
    "#####"
   ]
  },
  {
   "cell_type": "code",
   "execution_count": 10,
   "metadata": {},
   "outputs": [
    {
     "data": {
      "text/plain": [
       "array([[0, 1, 2],\n",
       "       [3, 4, 5]])"
      ]
     },
     "execution_count": 10,
     "metadata": {},
     "output_type": "execute_result"
    }
   ],
   "source": [
    "#Convert a 1D array to a 2D array with 2 rows\n",
    "\n",
    "#####\n",
    "arr = np.arange(6) # arr([0, 1, 2, 3, 4, 5])\n",
    "arr.reshape(2, -1)\n",
    "#####"
   ]
  },
  {
   "cell_type": "code",
   "execution_count": 11,
   "metadata": {},
   "outputs": [
    {
     "data": {
      "text/plain": [
       "array([[0, 1, 2, 3, 4],\n",
       "       [5, 6, 7, 8, 9],\n",
       "       [1, 1, 1, 1, 1],\n",
       "       [1, 1, 1, 1, 1]])"
      ]
     },
     "execution_count": 11,
     "metadata": {},
     "output_type": "execute_result"
    }
   ],
   "source": [
    "#Stack arrays a and b vertically\n",
    "\n",
    "a = np.arange(10).reshape(2, -1)\n",
    "b = np.repeat(1, 10).reshape(2, -1)\n",
    "#####\n",
    "np.vstack([a, b])\n",
    "#####"
   ]
  },
  {
   "cell_type": "code",
   "execution_count": 12,
   "metadata": {},
   "outputs": [
    {
     "data": {
      "text/plain": [
       "array([[0, 1, 2, 3, 4, 1, 1, 1, 1, 1],\n",
       "       [5, 6, 7, 8, 9, 1, 1, 1, 1, 1]])"
      ]
     },
     "execution_count": 12,
     "metadata": {},
     "output_type": "execute_result"
    }
   ],
   "source": [
    "#Stack arrays a and b horizontally\n",
    "\n",
    "a = np.arange(10).reshape(2, -1)\n",
    "b = np.repeat(1, 10).reshape(2, -1)\n",
    "#####\n",
    "np.hstack([a, b])\n",
    "#####"
   ]
  },
  {
   "cell_type": "code",
   "execution_count": 13,
   "metadata": {},
   "outputs": [
    {
     "data": {
      "text/plain": [
       "array([2, 4])"
      ]
     },
     "execution_count": 13,
     "metadata": {},
     "output_type": "execute_result"
    }
   ],
   "source": [
    "#Get the common items between a and b\n",
    "\n",
    "a = np.array([1, 2, 3, 2, 3, 4, 3, 4, 5, 6])\n",
    "b = np.array([7, 2, 10, 2, 7, 4, 9, 4, 9, 8])\n",
    "#####\n",
    "np.intersect1d(a, b)\n",
    "#####"
   ]
  },
  {
   "cell_type": "code",
   "execution_count": 20,
   "metadata": {},
   "outputs": [
    {
     "data": {
      "text/plain": [
       "array([1, 2, 3, 4])"
      ]
     },
     "execution_count": 20,
     "metadata": {},
     "output_type": "execute_result"
    }
   ],
   "source": [
    "#From array a remove all items present in array b\n",
    "#Desired Output: array([1, 2, 3, 4])\n",
    "\n",
    "a = np.array([1, 2, 3, 4, 5])\n",
    "b = np.array([5, 6, 7, 8, 9])\n",
    "#####\n",
    "np.setdiff1d(a, b)\n",
    "# a[~np.in1d(a, b)] # this works as well\n",
    "#####"
   ]
  },
  {
   "cell_type": "code",
   "execution_count": 21,
   "metadata": {},
   "outputs": [
    {
     "data": {
      "text/plain": [
       "(array([1, 3, 5, 7], dtype=int64),)"
      ]
     },
     "execution_count": 21,
     "metadata": {},
     "output_type": "execute_result"
    }
   ],
   "source": [
    "#Get the positions where elements of a and b match\n",
    "#Desired Output: (array([1, 3, 5, 7], dtype=int64),)\n",
    "\n",
    "a = np.array([1, 2, 3, 2, 3, 4, 3, 4, 5, 6])\n",
    "b = np.array([7, 2, 10, 2, 7, 4, 9, 4, 9, 8])\n",
    "#####\n",
    "np.where(a == b)\n",
    "#####"
   ]
  },
  {
   "cell_type": "code",
   "execution_count": 22,
   "metadata": {},
   "outputs": [
    {
     "data": {
      "text/plain": [
       "array([6., 7., 9., 8., 9., 7., 5.])"
      ]
     },
     "execution_count": 22,
     "metadata": {},
     "output_type": "execute_result"
    }
   ],
   "source": [
    "#Convert the function maxx that works on two scalars, to work on two arrays.\n",
    "#Hints:\n",
    "#a = np.array([5, 7, 9, 8, 6, 4, 5])\n",
    "#b = np.array([6, 3, 4, 8, 9, 7, 1])\n",
    "#pair_max(a, b)\n",
    "#Desired Output: array([6., 7., 9., 8., 9., 7., 5.])\n",
    "\n",
    "def maxx(x, y):\n",
    "    \"\"\"Get the maximum of two items\"\"\"\n",
    "    if x >= y:\n",
    "        return x\n",
    "    else:\n",
    "        return y\n",
    "\n",
    "maxx(1, 5)\n",
    "#####\n",
    "pair_max = np.vectorize(maxx, otypes = [float]) # get the maximum of 2 arrays\n",
    "a = np.array([5, 7, 9, 8, 6, 4, 5])\n",
    "b = np.array([6, 3, 4, 8, 9, 7, 1])\n",
    "\n",
    "pair_max(a, b)\n",
    "#####\n",
    "\n"
   ]
  },
  {
   "cell_type": "code",
   "execution_count": 23,
   "metadata": {},
   "outputs": [
    {
     "data": {
      "text/plain": [
       "array([[3, 4, 5],\n",
       "       [0, 1, 2],\n",
       "       [6, 7, 8]])"
      ]
     },
     "execution_count": 23,
     "metadata": {},
     "output_type": "execute_result"
    }
   ],
   "source": [
    "#How to swap two rows in a 2d numpy array?\n",
    "#Swap rows 1 and 2 in the array arr\n",
    "#Desired Output:\n",
    "#> array([[3, 4, 5],\n",
    "#>        [0, 1, 2],\n",
    "#>        [6, 7, 8]])\n",
    "\n",
    "#####\n",
    "arr = np.arange(9).reshape(3,3)\n",
    "arr[[1, 0, 2], :]\n",
    "# arr[[0, 1]] = arr[[1, 0]]\n",
    "# arr # this works as well\n",
    "#####"
   ]
  },
  {
   "cell_type": "code",
   "execution_count": 36,
   "metadata": {},
   "outputs": [
    {
     "data": {
      "text/plain": [
       "array([[0.9931, 0.3033, 0.9408],\n",
       "       [0.4919, 0.4122, 0.4239],\n",
       "       [0.4188, 0.7451, 0.944 ],\n",
       "       [0.7641, 0.2437, 0.1281]])"
      ]
     },
     "execution_count": 36,
     "metadata": {},
     "output_type": "execute_result"
    }
   ],
   "source": [
    "#Print or show only 4 decimal places of the numpy array rand_arr\n",
    "#Desired Output (something of that sort):\n",
    "#> array([[0.4783, 0.2209, 0.9993],\n",
    "#>        [0.3868, 0.1347, 0.2191],\n",
    "#>        [0.3491, 0.2374, 0.6212],\n",
    "#>        [0.8909, 0.4318, 0.4703]])\n",
    "\n",
    "rand_arr = np.random.random((5,3))\n",
    "#####\n",
    "np.set_printoptions(precision = 4)\n",
    "rand_arr\n",
    "#####"
   ]
  },
  {
   "cell_type": "code",
   "execution_count": 37,
   "metadata": {},
   "outputs": [
    {
     "name": "stdout",
     "output_type": "stream",
     "text": [
      "3.0540000000000003 3.0 0.4321465800705435\n"
     ]
    }
   ],
   "source": [
    "#Find the mean, median, standard deviation of iris's sepalwidth (1st column)\n",
    "#Output of that sort:\n",
    "#3.054 3.0 0.432146580071\n",
    "\n",
    "url = 'https://archive.ics.uci.edu/ml/machine-learning-databases/iris/iris.data'\n",
    "\n",
    "iris = np.genfromtxt(url, delimiter=',', dtype='object')\n",
    "sepalwidth = np.genfromtxt(url, delimiter=',', dtype='float', usecols=[1])\n",
    "#####\n",
    "mean, median, standard = np.mean(sepalwidth), np.median(sepalwidth), np.std(sepalwidth)\n",
    "print(mean, median, standard)\n",
    "#####"
   ]
  },
  {
   "cell_type": "code",
   "execution_count": 43,
   "metadata": {},
   "outputs": [
    {
     "name": "stdout",
     "output_type": "stream",
     "text": [
      "[0.625  0.4167 0.5    0.4583 0.6667 0.7917 0.5833 0.5833 0.375  0.4583\n",
      " 0.7083 0.5833 0.4167 0.4167 0.8333 1.     0.7917 0.625  0.75   0.75\n",
      " 0.5833 0.7083 0.6667 0.5417 0.5833 0.4167 0.5833 0.625  0.5833 0.5\n",
      " 0.4583 0.5833 0.875  0.9167 0.4583 0.5    0.625  0.4583 0.4167 0.5833\n",
      " 0.625  0.125  0.5    0.625  0.75   0.4167 0.75   0.5    0.7083 0.5417\n",
      " 0.5    0.5    0.4583 0.125  0.3333 0.3333 0.5417 0.1667 0.375  0.2917\n",
      " 0.     0.4167 0.0833 0.375  0.375  0.4583 0.4167 0.2917 0.0833 0.2083\n",
      " 0.5    0.3333 0.2083 0.3333 0.375  0.4167 0.3333 0.4167 0.375  0.25\n",
      " 0.1667 0.1667 0.2917 0.2917 0.4167 0.5833 0.4583 0.125  0.4167 0.2083\n",
      " 0.25   0.4167 0.25   0.125  0.2917 0.4167 0.375  0.375  0.2083 0.3333\n",
      " 0.5417 0.2917 0.4167 0.375  0.4167 0.4167 0.2083 0.375  0.2083 0.6667\n",
      " 0.5    0.2917 0.4167 0.2083 0.3333 0.5    0.4167 0.75   0.25   0.0833\n",
      " 0.5    0.3333 0.3333 0.2917 0.5417 0.5    0.3333 0.4167 0.3333 0.4167\n",
      " 0.3333 0.75   0.3333 0.3333 0.25   0.4167 0.5833 0.4583 0.4167 0.4583\n",
      " 0.4583 0.4583 0.2917 0.5    0.5417 0.4167 0.2083 0.4167 0.5833 0.4167]\n"
     ]
    }
   ],
   "source": [
    "#Create a normalized form of iris's sepalwidth whose values range exactly between 0 and 1 so that the minimum has value 0 and maximum has value 1.\n",
    "#Output of that sort:\n",
    "#[0.625  0.4167 0.5    0.4583 0.6667 0.7917 0.5833 0.5833 0.375  0.4583\n",
    "# 0.7083 0.5833 0.4167 0.4167 0.8333 1.     0.7917 0.625  0.75   0.75\n",
    "# 0.5833 0.7083 0.6667 0.5417 0.5833 0.4167 0.5833 0.625  0.5833 0.5\n",
    "# 0.4583 0.5833 0.875  0.9167 0.4583 0.5    0.625  0.4583 0.4167 0.5833\n",
    "# 0.625  0.125  0.5    0.625  0.75   0.4167 0.75   0.5    0.7083 0.5417\n",
    "# 0.5    0.5    0.4583 0.125  0.3333 0.3333 0.5417 0.1667 0.375  0.2917\n",
    "# 0.     0.4167 0.0833 0.375  0.375  0.4583 0.4167 0.2917 0.0833 0.2083\n",
    "# 0.5    0.3333 0.2083 0.3333 0.375  0.4167 0.3333 0.4167 0.375  0.25\n",
    "# 0.1667 0.1667 0.2917 0.2917 0.4167 0.5833 0.4583 0.125  0.4167 0.2083\n",
    "# 0.25   0.4167 0.25   0.125  0.2917 0.4167 0.375  0.375  0.2083 0.3333\n",
    "# 0.5417 0.2917 0.4167 0.375  0.4167 0.4167 0.2083 0.375  0.2083 0.6667\n",
    "# 0.5    0.2917 0.4167 0.2083 0.3333 0.5    0.4167 0.75   0.25   0.0833\n",
    "# 0.5    0.3333 0.3333 0.2917 0.5417 0.5    0.3333 0.4167 0.3333 0.4167\n",
    "# 0.3333 0.75   0.3333 0.3333 0.25   0.4167 0.5833 0.4583 0.4167 0.4583\n",
    "# 0.4583 0.4583 0.2917 0.5    0.5417 0.4167 0.2083 0.4167 0.5833 0.4167]\n",
    "\n",
    "url = 'https://archive.ics.uci.edu/ml/machine-learning-databases/iris/iris.data'\n",
    "sepalwidth = np.genfromtxt(url, delimiter=',', dtype='float', usecols=[1])\n",
    "#####\n",
    "sMax, sMin = sepalwidth.max(), sepalwidth.min()\n",
    "\n",
    "print((sepalwidth - sMin)/(sMax - sMin))\n",
    "# print((sepalwidth - sMin)/sepalwidth.ptp()) # this works as well\n",
    "#####"
   ]
  },
  {
   "cell_type": "code",
   "execution_count": null,
   "metadata": {
    "collapsed": true
   },
   "outputs": [],
   "source": []
  }
 ],
 "metadata": {
  "kernelspec": {
   "display_name": "Python 3",
   "language": "python",
   "name": "python3"
  },
  "language_info": {
   "codemirror_mode": {
    "name": "ipython",
    "version": 3
   },
   "file_extension": ".py",
   "mimetype": "text/x-python",
   "name": "python",
   "nbconvert_exporter": "python",
   "pygments_lexer": "ipython3",
   "version": "3.7.1"
  }
 },
 "nbformat": 4,
 "nbformat_minor": 2
}
