{
 "cells": [
  {
   "cell_type": "markdown",
   "metadata": {},
   "source": [
    "Libraries imported to finish the assessment."
   ]
  },
  {
   "cell_type": "code",
   "execution_count": 16,
   "metadata": {},
   "outputs": [],
   "source": [
    "from pandas import read_csv\n",
    "from matplotlib.pyplot import plot, title, xlabel, ylabel, legend, show\n",
    "from sklearn.model_selection import train_test_split, KFold, cross_val_score\n",
    "from sklearn.utils import shuffle\n",
    "from sklearn.preprocessing import StandardScaler\n",
    "from sklearn.neural_network import MLPClassifier\n",
    "from sklearn.ensemble import RandomForestClassifier\n",
    "from warnings import filterwarnings"
   ]
  },
  {
   "cell_type": "markdown",
   "metadata": {},
   "source": [
    "# Section 1"
   ]
  },
  {
   "cell_type": "markdown",
   "metadata": {},
   "source": [
    "Data import and summary."
   ]
  },
  {
   "cell_type": "code",
   "execution_count": 2,
   "metadata": {},
   "outputs": [
    {
     "data": {
      "text/html": [
       "<div>\n",
       "<style scoped>\n",
       "    .dataframe tbody tr th:only-of-type {\n",
       "        vertical-align: middle;\n",
       "    }\n",
       "\n",
       "    .dataframe tbody tr th {\n",
       "        vertical-align: top;\n",
       "    }\n",
       "\n",
       "    .dataframe thead th {\n",
       "        text-align: right;\n",
       "    }\n",
       "</style>\n",
       "<table border=\"1\" class=\"dataframe\">\n",
       "  <thead>\n",
       "    <tr style=\"text-align: right;\">\n",
       "      <th></th>\n",
       "      <th>Power_range_sensor_1</th>\n",
       "      <th>Power_range_sensor_2</th>\n",
       "      <th>Power_range_sensor_3</th>\n",
       "      <th>Power_range_sensor_4</th>\n",
       "      <th>Pressure _sensor_1</th>\n",
       "      <th>Pressure _sensor_2</th>\n",
       "      <th>Pressure _sensor_3</th>\n",
       "      <th>Pressure _sensor_4</th>\n",
       "      <th>Vibration_sensor_1</th>\n",
       "      <th>Vibration_sensor_2</th>\n",
       "      <th>Vibration_sensor_3</th>\n",
       "      <th>Vibration_sensor_4</th>\n",
       "    </tr>\n",
       "  </thead>\n",
       "  <tbody>\n",
       "    <tr>\n",
       "      <td>count</td>\n",
       "      <td>996.000000</td>\n",
       "      <td>996.000000</td>\n",
       "      <td>996.000000</td>\n",
       "      <td>996.000000</td>\n",
       "      <td>996.000000</td>\n",
       "      <td>996.000000</td>\n",
       "      <td>996.000000</td>\n",
       "      <td>996.000000</td>\n",
       "      <td>996.000000</td>\n",
       "      <td>996.000000</td>\n",
       "      <td>996.000000</td>\n",
       "      <td>996.000000</td>\n",
       "    </tr>\n",
       "    <tr>\n",
       "      <td>mean</td>\n",
       "      <td>4.999574</td>\n",
       "      <td>6.379273</td>\n",
       "      <td>9.228112</td>\n",
       "      <td>7.355272</td>\n",
       "      <td>14.199127</td>\n",
       "      <td>3.077958</td>\n",
       "      <td>5.749234</td>\n",
       "      <td>4.997002</td>\n",
       "      <td>8.164563</td>\n",
       "      <td>10.001593</td>\n",
       "      <td>15.187982</td>\n",
       "      <td>9.933591</td>\n",
       "    </tr>\n",
       "    <tr>\n",
       "      <td>std</td>\n",
       "      <td>2.764856</td>\n",
       "      <td>2.312569</td>\n",
       "      <td>2.532173</td>\n",
       "      <td>4.354778</td>\n",
       "      <td>11.680045</td>\n",
       "      <td>2.126091</td>\n",
       "      <td>2.526136</td>\n",
       "      <td>4.165490</td>\n",
       "      <td>6.173261</td>\n",
       "      <td>7.336233</td>\n",
       "      <td>12.159625</td>\n",
       "      <td>7.282383</td>\n",
       "    </tr>\n",
       "    <tr>\n",
       "      <td>min</td>\n",
       "      <td>0.008200</td>\n",
       "      <td>0.040300</td>\n",
       "      <td>2.583966</td>\n",
       "      <td>0.062300</td>\n",
       "      <td>0.024800</td>\n",
       "      <td>0.008262</td>\n",
       "      <td>0.001224</td>\n",
       "      <td>0.005800</td>\n",
       "      <td>0.000000</td>\n",
       "      <td>0.018500</td>\n",
       "      <td>0.064600</td>\n",
       "      <td>0.009200</td>\n",
       "    </tr>\n",
       "    <tr>\n",
       "      <td>50%</td>\n",
       "      <td>4.881100</td>\n",
       "      <td>6.470500</td>\n",
       "      <td>9.348000</td>\n",
       "      <td>7.071550</td>\n",
       "      <td>11.716802</td>\n",
       "      <td>2.672400</td>\n",
       "      <td>5.741357</td>\n",
       "      <td>3.859200</td>\n",
       "      <td>6.752900</td>\n",
       "      <td>8.793050</td>\n",
       "      <td>12.185650</td>\n",
       "      <td>8.853050</td>\n",
       "    </tr>\n",
       "    <tr>\n",
       "      <td>max</td>\n",
       "      <td>12.129800</td>\n",
       "      <td>11.928400</td>\n",
       "      <td>15.759900</td>\n",
       "      <td>17.235858</td>\n",
       "      <td>67.979400</td>\n",
       "      <td>10.242738</td>\n",
       "      <td>12.647500</td>\n",
       "      <td>16.555620</td>\n",
       "      <td>36.186438</td>\n",
       "      <td>34.867600</td>\n",
       "      <td>53.238400</td>\n",
       "      <td>43.231400</td>\n",
       "    </tr>\n",
       "  </tbody>\n",
       "</table>\n",
       "</div>"
      ],
      "text/plain": [
       "       Power_range_sensor_1  Power_range_sensor_2  Power_range_sensor_3   \\\n",
       "count            996.000000            996.000000             996.000000   \n",
       "mean               4.999574              6.379273               9.228112   \n",
       "std                2.764856              2.312569               2.532173   \n",
       "min                0.008200              0.040300               2.583966   \n",
       "50%                4.881100              6.470500               9.348000   \n",
       "max               12.129800             11.928400              15.759900   \n",
       "\n",
       "       Power_range_sensor_4  Pressure _sensor_1  Pressure _sensor_2  \\\n",
       "count            996.000000          996.000000          996.000000   \n",
       "mean               7.355272           14.199127            3.077958   \n",
       "std                4.354778           11.680045            2.126091   \n",
       "min                0.062300            0.024800            0.008262   \n",
       "50%                7.071550           11.716802            2.672400   \n",
       "max               17.235858           67.979400           10.242738   \n",
       "\n",
       "       Pressure _sensor_3  Pressure _sensor_4  Vibration_sensor_1  \\\n",
       "count          996.000000          996.000000          996.000000   \n",
       "mean             5.749234            4.997002            8.164563   \n",
       "std              2.526136            4.165490            6.173261   \n",
       "min              0.001224            0.005800            0.000000   \n",
       "50%              5.741357            3.859200            6.752900   \n",
       "max             12.647500           16.555620           36.186438   \n",
       "\n",
       "       Vibration_sensor_2  Vibration_sensor_3  Vibration_sensor_4  \n",
       "count          996.000000          996.000000          996.000000  \n",
       "mean            10.001593           15.187982            9.933591  \n",
       "std              7.336233           12.159625            7.282383  \n",
       "min              0.018500            0.064600            0.009200  \n",
       "50%              8.793050           12.185650            8.853050  \n",
       "max             34.867600           53.238400           43.231400  "
      ]
     },
     "execution_count": 2,
     "metadata": {},
     "output_type": "execute_result"
    }
   ],
   "source": [
    "dataset = read_csv('Assessment2_dataset.csv')\n",
    "dataset.describe(percentiles=[.5]) # generate some descriptive statistics"
   ]
  },
  {
   "cell_type": "markdown",
   "metadata": {},
   "source": [
    "Data pre-processing."
   ]
  },
  {
   "cell_type": "code",
   "execution_count": 3,
   "metadata": {},
   "outputs": [
    {
     "name": "stdout",
     "output_type": "stream",
     "text": [
      "Size of data: (996, 13)\n",
      "Count of data with status \"Normal\": 498\n",
      "Count of data with status \"Abnormal\": 498\n",
      "Count of missing values: 0\n"
     ]
    }
   ],
   "source": [
    "print('Size of data:', dataset.shape)\n",
    "print('Count of data with status \\\"Normal\\\":', dataset[dataset['Status'] == 'Normal'].index.size)\n",
    "print('Count of data with status \\\"Abnormal\\\":', dataset[dataset['Status'] == 'Abnormal'].index.size)\n",
    "print('Count of missing values:', dataset.isna().any().sum())\n",
    "\n",
    "# replace the data of the column \"Status\" with 1 (\"Normal\") or 0 (\"Abnormal\")\n",
    "dataset.loc[dataset['Status'] == 'Normal', 'Status'] = 1\n",
    "dataset.loc[dataset['Status'] == 'Abnormal', 'Status'] = 0\n",
    "\n",
    "dataset = shuffle(dataset) # shuffle the data\n",
    "\n",
    "x = dataset.drop(['Status'], axis = 1) # use the data of all columns except the column \"Status\" as the input values\n",
    "y = dataset['Status'] # use the data of the column \"Status\" as the output values\n",
    "\n",
    "x_normalised = StandardScaler().fit_transform(x) # normalise the data which will be used to apply an ANN in Section 4"
   ]
  },
  {
   "cell_type": "markdown",
   "metadata": {},
   "source": [
    "Data visualisation."
   ]
  },
  {
   "cell_type": "code",
   "execution_count": 4,
   "metadata": {},
   "outputs": [
    {
     "data": {
      "image/png": "[encoded data removed]",
      "text/plain": [
       "<Figure size 432x288 with 1 Axes>"
      ]
     },
     "metadata": {
      "needs_background": "light"
     },
     "output_type": "display_data"
    }
   ],
   "source": [
    "# a box plot which will include \"Status\" in the x-axis and \"Vibration_sensor_1\" in the y-axis\n",
    "dataset.boxplot(column = ['Vibration_sensor_1'], by = 'Status')\n",
    "title(None)\n",
    "xlabel('Abnormal                                         Normal')\n",
    "ylabel('Vibration_sensor_1')\n",
    "show()"
   ]
  },
  {
   "cell_type": "code",
   "execution_count": 5,
   "metadata": {},
   "outputs": [
    {
     "data": {
      "image/png": "[encoded data removed]",
      "text/plain": [
       "<Figure size 432x288 with 1 Axes>"
      ]
     },
     "metadata": {
      "needs_background": "light"
     },
     "output_type": "display_data"
    }
   ],
   "source": [
    "# a density plot for \"Vibration_sensor_2\" of each status\n",
    "dataset[dataset['Status'] == 1]['Vibration_sensor_2'].plot(kind = 'kde', label = 'Normal')\n",
    "dataset[dataset['Status'] == 0]['Vibration_sensor_2'].plot(kind = 'kde', label = 'Abnormal')\n",
    "xlabel('Vibration_sensor_2')\n",
    "legend()\n",
    "show()"
   ]
  },
  {
   "cell_type": "markdown",
   "metadata": {},
   "source": [
    "# Section 3"
   ]
  },
  {
   "cell_type": "markdown",
   "metadata": {},
   "source": [
    "Data pre-processing based on Section 1."
   ]
  },
  {
   "cell_type": "code",
   "execution_count": 7,
   "metadata": {},
   "outputs": [],
   "source": [
    "x_train, x_test, y_train, y_test = train_test_split(x, y, test_size = 0.1) # split the data into training (90% of the data) and test sets\n",
    "\n",
    "# normalise the split data which will be used to apply an ANN\n",
    "scaler = StandardScaler().fit(x_train)\n",
    "x_train_normalised = scaler.transform(x_train)\n",
    "x_test_normalised = scaler.transform(x_test)"
   ]
  },
  {
   "cell_type": "markdown",
   "metadata": {},
   "source": [
    "Implementation of applying an ANN."
   ]
  },
  {
   "cell_type": "code",
   "execution_count": 8,
   "metadata": {},
   "outputs": [],
   "source": [
    "def ApplyAnn(x_train, x_test, y_train, y_test, epoch = 200) -> float:\n",
    "    '''\n",
    "    Design, train, and evaluate a specified ANN with 500 neurons in the hidden layer.\n",
    "\n",
    "    :param x_train: training input values\n",
    "    :param x_test: test input values\n",
    "    :param y_train: training output values\n",
    "    :param y_test: test output values\n",
    "    :param epoch: an integer representing the max iteration steps (default = 200)\n",
    "    :returns: the accuracy of the ANN\n",
    "    '''\n",
    "\n",
    "    ann = MLPClassifier(activation = 'logistic', hidden_layer_sizes = (500, 500), max_iter = epoch, random_state = 1)\n",
    "    ann.fit(x_train, y_train)\n",
    "    return ann.score(x_test, y_test)"
   ]
  },
  {
   "cell_type": "markdown",
   "metadata": {},
   "source": [
    "Design, train, and evaluate the ANN with 500 neurons in each hidden layer and 200 epochs."
   ]
  },
  {
   "cell_type": "code",
   "execution_count": 9,
   "metadata": {},
   "outputs": [
    {
     "name": "stdout",
     "output_type": "stream",
     "text": [
      "Accuracy: 0.67\n"
     ]
    }
   ],
   "source": [
    "print('Accuracy:', ApplyAnn(x_train_normalised, x_test_normalised, y_train, y_test))"
   ]
  },
  {
   "cell_type": "markdown",
   "metadata": {},
   "source": [
    "## Bonus"
   ]
  },
  {
   "cell_type": "markdown",
   "metadata": {},
   "source": [
    "Use various epochs to monitor how accuracy changes as the ANN keeps learning."
   ]
  },
  {
   "cell_type": "code",
   "execution_count": 10,
   "metadata": {},
   "outputs": [
    {
     "name": "stdout",
     "output_type": "stream",
     "text": [
      "List of epochs: [10, 20, 30, 40, 50, 60, 70, 80, 90, 100, 110, 120, 130, 140, 150, 160, 170, 180, 190, 200]\n",
      "List of accuracy: [0.62, 0.69, 0.66, 0.66, 0.71, 0.7, 0.67, 0.67, 0.67, 0.67, 0.67, 0.67, 0.67, 0.67, 0.67, 0.67, 0.67, 0.67, 0.67, 0.67]\n"
     ]
    },
    {
     "data": {
      "image/png": "[encoded data removed]",
      "text/plain": [
       "<Figure size 432x288 with 1 Axes>"
      ]
     },
     "metadata": {
      "needs_background": "light"
     },
     "output_type": "display_data"
    }
   ],
   "source": [
    "filterwarnings('ignore') # the function is mainly used to ignore convergence warnings\n",
    "epochList = [10 * i for i in range(1, 21)]\n",
    "accuracyList = []\n",
    "\n",
    "# loop to use various epochs to design, train, and evaluate an ANN\n",
    "for epoch in epochList:\n",
    "    accuracyList.append(ApplyAnn(x_train_normalised, x_test_normalised, y_train, y_test, epoch))\n",
    "\n",
    "print('List of epochs:', epochList)\n",
    "print('List of accuracy:', accuracyList)\n",
    "    \n",
    "plot(epochList, accuracyList)\n",
    "xlabel('epoch')\n",
    "ylabel('accuracy')\n",
    "show()"
   ]
  },
  {
   "cell_type": "markdown",
   "metadata": {},
   "source": [
    "Implementation of applying a random forest classifier."
   ]
  },
  {
   "cell_type": "code",
   "execution_count": 24,
   "metadata": {},
   "outputs": [],
   "source": [
    "def ApplyRandomForest(x_train, x_test, y_train, y_test, treeNum = 10, minSampleNum = 1) -> float:\n",
    "    '''\n",
    "    Design, train, and evaluate a specified random forest classifier.\n",
    "\n",
    "    :param x_train: training input values\n",
    "    :param x_test: test input values\n",
    "    :param y_train: training output values\n",
    "    :param y_test: test output values\n",
    "    :param treeNum: the number of trees (default = 10)\n",
    "    :param minSampleNum: the minimum number of samples required to be at a leaf node (default = 1)\n",
    "    :returns: the accuracy of a random forest classifier\n",
    "    '''\n",
    "\n",
    "    randomForest = RandomForestClassifier(criterion = 'entropy', min_samples_leaf = minSampleNum, n_estimators = treeNum, random_state = 1)\n",
    "    randomForest.fit(x_train, y_train)\n",
    "    return randomForest.score(x_test, y_test)"
   ]
  },
  {
   "cell_type": "markdown",
   "metadata": {},
   "source": [
    "Design, train, and evaluate the random forest classifier with 1000 trees and at least 5 samples at a leaf node."
   ]
  },
  {
   "cell_type": "code",
   "execution_count": 25,
   "metadata": {},
   "outputs": [
    {
     "name": "stdout",
     "output_type": "stream",
     "text": [
      "Accuracy: 0.89\n"
     ]
    }
   ],
   "source": [
    "print('Accuracy:', ApplyRandomForest(x_train, x_test, y_train, y_test, 1000, 5))"
   ]
  },
  {
   "cell_type": "markdown",
   "metadata": {},
   "source": [
    "Design, train, and evaluate the random forest classifier with 1000 trees and at least 50 samples at a leaf node."
   ]
  },
  {
   "cell_type": "code",
   "execution_count": 26,
   "metadata": {},
   "outputs": [
    {
     "name": "stdout",
     "output_type": "stream",
     "text": [
      "Accuracy: 0.83\n"
     ]
    }
   ],
   "source": [
    "print('Accuracy:', ApplyRandomForest(x_train, x_test, y_train, y_test, 1000, 50))"
   ]
  },
  {
   "cell_type": "markdown",
   "metadata": {},
   "source": [
    "## Bonus"
   ]
  },
  {
   "cell_type": "markdown",
   "metadata": {},
   "source": [
    "Use various numbers of trees to monitor how the accuracy of a random forest classifier changes."
   ]
  },
  {
   "cell_type": "code",
   "execution_count": 27,
   "metadata": {
    "scrolled": false
   },
   "outputs": [
    {
     "name": "stdout",
     "output_type": "stream",
     "text": [
      "List of numbers of trees: [10, 50, 100, 500, 1000, 5000, 10000]\n",
      "List of accuracy (at least 5 samples at a leaf node): [0.89, 0.93, 0.92, 0.9, 0.89, 0.91, 0.91]\n",
      "List of accuracy (at least 50 samples at a leaf node): [0.78, 0.81, 0.83, 0.85, 0.83, 0.83, 0.83]\n"
     ]
    },
    {
     "data": {
      "image/png": "[encoded data removed]",
      "text/plain": [
       "<Figure size 432x288 with 1 Axes>"
      ]
     },
     "metadata": {
      "needs_background": "light"
     },
     "output_type": "display_data"
    }
   ],
   "source": [
    "treeNumList = [10, 50, 100, 500, 1000, 5000, 10000]\n",
    "accuracyList_5 = []\n",
    "accuracyList_50 = []\n",
    "\n",
    "# loop to use various number of trees to design, train, and evaluate a random forest classifier\n",
    "for treeNum in treeNumList:\n",
    "    accuracyList_5.append(ApplyRandomForest(x_train, x_test, y_train, y_test, treeNum, 5))\n",
    "    accuracyList_50.append(ApplyRandomForest(x_train, x_test, y_train, y_test, treeNum, 50))\n",
    "    \n",
    "print('List of numbers of trees:', treeNumList)\n",
    "print('List of accuracy (at least 5 samples at a leaf node):', accuracyList_5)\n",
    "print('List of accuracy (at least 50 samples at a leaf node):', accuracyList_50)\n",
    "\n",
    "plot(treeNumList, accuracyList_5, label = 'at least 5 samples at a leaf node')\n",
    "plot(treeNumList, accuracyList_50, label = 'at least 50 samples at a leaf node')\n",
    "xlabel('number of trees')\n",
    "ylabel('accuracy')\n",
    "legend()\n",
    "show()"
   ]
  },
  {
   "cell_type": "markdown",
   "metadata": {},
   "source": [
    "# Section 4"
   ]
  },
  {
   "cell_type": "markdown",
   "metadata": {},
   "source": [
    "Model selection."
   ]
  },
  {
   "cell_type": "code",
   "execution_count": 29,
   "metadata": {},
   "outputs": [
    {
     "name": "stdout",
     "output_type": "stream",
     "text": [
      "Mean accuracy of the ANN with 50 neurons in each hidden layer: 0.7389898989898989\n",
      "Mean accuracy of the ANN with 500 neurons in each hidden layer: 0.7128888888888889\n",
      "Mean accuracy of the ANN with 1000 neurons in each hidden layer: 0.7078383838383837\n",
      "\n",
      "Mean accuracy of the random forest classifier with 20 trees: 0.9156969696969697\n",
      "Mean accuracy of the random forest classifier with 500 trees: 0.9297676767676768\n",
      "Mean accuracy of the random forest classifier with 10000 trees: 0.9287777777777778\n"
     ]
    }
   ],
   "source": [
    "tenFoldCv = KFold(n_splits = 10, random_state = 1) # apply a 10-fold CV process\n",
    "\n",
    "# loop to show the mean accuracy results for each set of parameters of an ANN\n",
    "for neuronNum in [50, 500, 1000]:\n",
    "    cvScore_Ann = cross_val_score(MLPClassifier(activation = 'logistic', hidden_layer_sizes = (neuronNum, neuronNum), random_state = 1), x_normalised, y, cv = tenFoldCv)\n",
    "    print('Mean accuracy of the ANN with {0} neurons in each hidden layer: {1}'.format(neuronNum, cvScore_Ann.mean()))\n",
    "\n",
    "print()\n",
    "\n",
    "# loop to show the mean accuracy results for each set of parameters of a random forest classifier\n",
    "for treeNum in [20, 500, 10000]:\n",
    "    cvScore_RandomForest = cross_val_score(RandomForestClassifier(criterion = 'entropy', n_estimators = treeNum, random_state = 1), x, y, cv = tenFoldCv)\n",
    "    print('Mean accuracy of the random forest classifier with {0} trees: {1}'.format(treeNum, cvScore_RandomForest.mean()))"
   ]
  },
  {
   "cell_type": "code",
   "execution_count": null,
   "metadata": {},
   "outputs": [],
   "source": []
  }
 ],
 "metadata": {
  "kernelspec": {
   "display_name": "Python 3",
   "language": "python",
   "name": "python3"
  },
  "language_info": {
   "codemirror_mode": {
    "name": "ipython",
    "version": 3
   },
   "file_extension": ".py",
   "mimetype": "text/x-python",
   "name": "python",
   "nbconvert_exporter": "python",
   "pygments_lexer": "ipython3",
   "version": "3.7.4"
  }
 },
 "nbformat": 4,
 "nbformat_minor": 2
}
